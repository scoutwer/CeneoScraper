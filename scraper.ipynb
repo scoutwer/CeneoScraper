{
 "cells": [
  {
   "cell_type": "markdown",
   "metadata": {},
   "source": [
    "### import bibliotek"
   ]
  },
  {
   "cell_type": "code",
   "execution_count": 120,
   "metadata": {},
   "outputs": [],
   "source": [
    "import os\n",
    "import json\n",
    "import requests\n",
    "from bs4 import BeautifulSoup"
   ]
  },
  {
   "cell_type": "markdown",
   "metadata": {},
   "source": [
    "### Proces ekstrakcji opini o produkcie"
   ]
  },
  {
   "cell_type": "code",
   "execution_count": 121,
   "metadata": {},
   "outputs": [],
   "source": [
    "with open('headers.json', \"r\") as jf:\n",
    "    headers = json.load(jf)"
   ]
  },
  {
   "cell_type": "code",
   "execution_count": 122,
   "metadata": {},
   "outputs": [],
   "source": [
    "product_id = \"84514582\"\n",
    "url = f\"https://www.ceneo.pl/{product_id}#tab=reviews\"  \n",
    "all_opinions = []\n",
    "response = requests.get(url, headers=headers)"
   ]
  },
  {
   "cell_type": "code",
   "execution_count": 123,
   "metadata": {},
   "outputs": [],
   "source": [
    "if response.status_code == 200:\n",
    "    page_dom = BeautifulSoup(response.text, \"html.parser\")\n",
    "    opinions = page_dom.select(\"div.js_product-review:not(.user-post--highlight)\")"
   ]
  },
  {
   "cell_type": "code",
   "execution_count": 124,
   "metadata": {},
   "outputs": [
    {
     "name": "stdout",
     "output_type": "stream",
     "text": [
      "Brak kolejnej strony.\n"
     ]
    }
   ],
   "source": [
    "product_id = \"84514582\"\n",
    "next_page = (f\"https://www.ceneo.pl/{product_id}#tab=reviews\")\n",
    "all_opinions = []\n",
    "while next_page:\n",
    "    response = requests.get(next_page,headers=headers)\n",
    "    if response.status_code == 200:\n",
    "        page_dom = BeautifulSoup(response.text, \"html.parser\")\n",
    "        opinions = page_dom.select(\"div.js_product-review:not(.user-post--highlight)\")\n",
    "        for opinion in opinions:\n",
    "            try:\n",
    "                single_opinion = {\n",
    "                    \"author\": opinion.select_one(\"span.user-post__author-name\").text.strip(),\n",
    "                    \"recommendation\": opinion.select_one(\"span.user-post__author-recomendation > em\").text.strip(),\n",
    "                    \"stars\": opinion.select_one(\"span.user-post__score-count\").text.strip(),\n",
    "                    \"content\": opinion.select_one(\"div.user-post__text\").text.strip(),\n",
    "                    \"pros\": [p.text.strip() for p in opinion.select(\"div.review-feature__item--positive\")],\n",
    "                    \"cons\": [c.text.strip() for c in opinion.select(\"div.review-feature__item--negative\")],\n",
    "                    \"useful\": opinion.select_one(\"button.vote-yes > span\").text.strip(),\n",
    "                    \"useless\": opinion.select_one(\"button.vote-no > span\").text.strip(),\n",
    "                    \"post_date\": opinion.select_one(\"span.user-post__published > time:nth-child(1)\")['datetime'].strip(),\n",
    "                    \"purchase_date\": opinion.select_one(\"span.user-post__published > time:nth-child(2)\")['datetime'].strip(),\n",
    "                }\n",
    "                all_opinions.append(single_opinion)\n",
    "            except (AttributeError, TypeError):\n",
    "                pass\n",
    "        next_page_element = page_dom.select_one(\"a.pagination__next\")\n",
    "        try:\n",
    "            next_page = \"https://www.ceneo.pl\" + next_page_element[\"href\"]\n",
    "        except TypeError:\n",
    "            next_page = None\n",
    "            print(\"Brak kolejnej strony.\")\n",
    "    else:\n",
    "        print(f\"{response.status_code}\")"
   ]
  },
  {
   "cell_type": "markdown",
   "metadata": {},
   "source": [
    "### Zapisanie wyników do bazy danych "
   ]
  },
  {
   "cell_type": "code",
   "execution_count": 125,
   "metadata": {},
   "outputs": [],
   "source": [
    "if not os.path.exists(\"./opinions\"):\n",
    "    os.mkdir(\"./opinions\")"
   ]
  },
  {
   "cell_type": "code",
   "execution_count": 126,
   "metadata": {},
   "outputs": [],
   "source": [
    "with open(f\"./opinions/{product_id}.json\", \"w\", encoding=\"utf-8\") as jf:\n",
    "    json.dump(all_opinions, jf, indent=4, ensure_ascii=False)"
   ]
  }
 ],
 "metadata": {
  "kernelspec": {
   "display_name": ".venv",
   "language": "python",
   "name": "python3"
  },
  "language_info": {
   "codemirror_mode": {
    "name": "ipython",
    "version": 3
   },
   "file_extension": ".py",
   "mimetype": "text/x-python",
   "name": "python",
   "nbconvert_exporter": "python",
   "pygments_lexer": "ipython3",
   "version": "3.12.6"
  }
 },
 "nbformat": 4,
 "nbformat_minor": 2
}
